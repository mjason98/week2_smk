{
 "cells": [
  {
   "cell_type": "code",
   "execution_count": 1,
   "id": "2a606092-b51a-407f-a93e-6653319ca9ae",
   "metadata": {},
   "outputs": [],
   "source": [
    "!pip install -q kaggle"
   ]
  },
  {
   "cell_type": "code",
   "execution_count": null,
   "id": "c2e69635-5682-4a43-82a6-227870106c8b",
   "metadata": {},
   "outputs": [],
   "source": [
    "!touch .kaggle/kaggle.json"
   ]
  },
  {
   "cell_type": "code",
   "execution_count": null,
   "id": "dd55f641-92c9-4842-a8ca-dd7480620bdb",
   "metadata": {},
   "outputs": [],
   "source": [
    "api_token = {\"username\": \"\", \"key\": \"\"}"
   ]
  },
  {
   "cell_type": "code",
   "execution_count": null,
   "id": "bddb02d0-27c7-4615-824d-28b602437ef3",
   "metadata": {},
   "outputs": [],
   "source": [
    "import json\n",
    "with open('/root/.kaggle/kaggle.json', 'w') as file:\n",
    "    json.dump(api_token, file)"
   ]
  },
  {
   "cell_type": "code",
   "execution_count": null,
   "id": "2804b207-c2b5-4195-8539-901a9f02372d",
   "metadata": {},
   "outputs": [],
   "source": [
    "!chmod 600 .kaggle/kaggle.json"
   ]
  },
  {
   "cell_type": "code",
   "execution_count": null,
   "id": "c3dea9da-f0b1-4752-af77-760ae4f295dc",
   "metadata": {},
   "outputs": [],
   "source": [
    "!kaggle datasets download -d phylake1337/fire-dataset"
   ]
  },
  {
   "cell_type": "code",
   "execution_count": null,
   "id": "d8eb181a-abb4-47bc-842d-0d4495479bfe",
   "metadata": {},
   "outputs": [],
   "source": [
    "!unzip fire-dataset.zip"
   ]
  },
  {
   "cell_type": "code",
   "execution_count": 2,
   "id": "f0442363-00c9-4edf-9d32-646b9c6a7061",
   "metadata": {},
   "outputs": [
    {
     "name": "stdout",
     "output_type": "stream",
     "text": [
      "make_bucket: team2-wildfire\n"
     ]
    }
   ],
   "source": [
    "!aws s3 mb s3://team2-wildfire"
   ]
  },
  {
   "cell_type": "code",
   "execution_count": null,
   "id": "67abb0e2-4571-4292-900c-d34208c6e730",
   "metadata": {},
   "outputs": [],
   "source": [
    "!aws s3 sync fire_dataset s3://team2-wildfire"
   ]
  },
  {
   "cell_type": "code",
   "execution_count": null,
   "id": "77d04cda-389f-4586-a62a-b5459d929508",
   "metadata": {},
   "outputs": [],
   "source": []
  }
 ],
 "metadata": {
  "kernelspec": {
   "display_name": "Python 3 (ipykernel)",
   "language": "python",
   "name": "python3"
  },
  "language_info": {
   "codemirror_mode": {
    "name": "ipython",
    "version": 3
   },
   "file_extension": ".py",
   "mimetype": "text/x-python",
   "name": "python",
   "nbconvert_exporter": "python",
   "pygments_lexer": "ipython3",
   "version": "3.10.14"
  }
 },
 "nbformat": 4,
 "nbformat_minor": 5
}
